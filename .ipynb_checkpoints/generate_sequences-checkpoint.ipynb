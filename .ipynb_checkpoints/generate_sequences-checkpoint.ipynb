{
 "cells": [
  {
   "cell_type": "code",
   "execution_count": 1,
   "metadata": {},
   "outputs": [
    {
     "name": "stderr",
     "output_type": "stream",
     "text": [
      "/usr/lib/python3.6/site-packages/h5py/__init__.py:36: FutureWarning: Conversion of the second argument of issubdtype from `float` to `np.floating` is deprecated. In future, it will be treated as `np.float64 == np.dtype(float).type`.\n",
      "  from ._conv import register_converters as _register_converters\n"
     ]
    }
   ],
   "source": [
    "import os\n",
    "from Latex.Latex import Latex\n",
    "import numpy as np\n",
    "from os import listdir\n",
    "from skimage import io\n",
    "import matplotlib.pyplot as plt\n",
    "from IPython.display import display, Math\n",
    "import re\n",
    "import json"
   ]
  },
  {
   "cell_type": "code",
   "execution_count": 2,
   "metadata": {},
   "outputs": [],
   "source": [
    "train_images = np.load(\"train_images.npy\")\n",
    "train_labels = np.load(\"train_labels.npy\")"
   ]
  },
  {
   "cell_type": "code",
   "execution_count": 3,
   "metadata": {},
   "outputs": [],
   "source": [
    "mean_train = np.mean(train_images, axis=0)\n",
    "std_train = np.std(train_images, axis=0)"
   ]
  },
  {
   "cell_type": "code",
   "execution_count": 10,
   "metadata": {},
   "outputs": [],
   "source": [
    "model = Latex(\"model\", mean_train, std_train, plotting=False)"
   ]
  },
  {
   "cell_type": "code",
   "execution_count": 14,
   "metadata": {},
   "outputs": [],
   "source": [
    "ltokens = ['0', '1', '2', '3', '4', '5', '6', '7', '8', '9', '-', '+', '=', '#leq', '#neq', '#geq', '#alpha',\n",
    "                            '#beta', '#lambda', '#lt', '#gt', 'x', 'y', '^', '#frac', '{', '}' ,' ']"
   ]
  },
  {
   "cell_type": "code",
   "execution_count": 20,
   "metadata": {},
   "outputs": [
    {
     "name": "stdout",
     "output_type": "stream",
     "text": [
      "Start i: 0\n",
      "[[28 24 25  5  7 26 25  3  8  5 26 17 23  2 10  4  3 27 14 27  7  5 27 27\n",
      "  27 27 27 27 27 27]\n",
      " [28 24 25  3  4  7 26 25  1  7  7 26 18 23  3 11  2  5 27 14 27  4  0  6\n",
      "  27 27 27 27 27 27]]\n",
      "seq:  #frac{57}{385}#beta^2-43 #neq 75        \n",
      "seq:  #frac{347}{177}#lambda^3+25 #neq 406      \n"
     ]
    }
   ],
   "source": [
    "files = [os.path.join(dp, f) for dp, dn, fn in os.walk(os.path.expanduser(\"formulas/train\")) for f in fn]\n",
    "nlabels = 23\n",
    "nof_sequences = len(files)\n",
    "nclasses = nlabels+4+2+1 # 1 for pad and 4 for relative pos, 2 for abs pos and shift from last and width\n",
    "noclasses = len(ltokens)\n",
    "isequence = np.zeros((nof_sequences,30,nclasses))\n",
    "isequence[:,:,-1] = 1 # default all pad\n",
    "osequence = (noclasses-1)*np.ones((nof_sequences,30), dtype=int)\n",
    "osequence[:,0] = noclasses # all <GO> in beginning\n",
    "for i in range(nof_sequences):\n",
    "    if i % 10 == 0:\n",
    "        print(\"Start i: %d\" % i)\n",
    "    formula = io.imread(files[i])\n",
    "    pos = files[i].rfind(\"/\")\n",
    "    filename = files[i][pos+1:]\n",
    "    height, width = formula.shape\n",
    "    correct = model.filename2formula(filename)\n",
    "    oseq = model.filename2seq(filename)\n",
    "    osequence[i,1:len(oseq)+1] = oseq\n",
    "    latex = model.predict(formula)\n",
    "    \n",
    "    last_xmax = 0\n",
    "    last_ymin = latex['data'][0]['ymin']\n",
    "    step_c = -1\n",
    "    for step in latex['data']:\n",
    "        step_c += 1\n",
    "        isequence[i][step_c][:nlabels] = step['probs']\n",
    "        isequence[i][step_c][-1] = 0 # remove pad\n",
    "        isequence[i][step_c][-7] = step['xmin']/width\n",
    "        isequence[i][step_c][-6] = step['ymin']/height\n",
    "        isequence[i][step_c][-5] = (step['xmin']-last_xmax)/10\n",
    "        last_xmax = step['xmax']\n",
    "        isequence[i][step_c][-4] = (step['xmax']-step['xmin'])/48\n",
    "        isequence[i][step_c][-3] = (step['ymin']-last_ymin)/10\n",
    "        isequence[i][step_c][-2] = (step['ymax']-step['ymin'])/48\n",
    "        last_ymin = step['ymin']"
   ]
  },
  {
   "cell_type": "code",
   "execution_count": null,
   "metadata": {},
   "outputs": [],
   "source": [
    "np.save(\"iseq_n\", isequence)\n",
    "np.save(\"oseq_n\", osequence)\n",
    "with open('files.json', 'w') as f:\n",
    "    f.write(json.dumps(files[:nof_sequences]))"
   ]
  }
 ],
 "metadata": {
  "kernelspec": {
   "display_name": "Python 3",
   "language": "python",
   "name": "python3"
  },
  "language_info": {
   "codemirror_mode": {
    "name": "ipython",
    "version": 3
   },
   "file_extension": ".py",
   "mimetype": "text/x-python",
   "name": "python",
   "nbconvert_exporter": "python",
   "pygments_lexer": "ipython3",
   "version": "3.6.6"
  }
 },
 "nbformat": 4,
 "nbformat_minor": 2
}
