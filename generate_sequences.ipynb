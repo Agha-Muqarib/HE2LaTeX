{
 "cells": [
  {
   "cell_type": "code",
   "execution_count": 1,
   "metadata": {},
   "outputs": [
    {
     "name": "stderr",
     "output_type": "stream",
     "text": [
      "/usr/lib/python3.6/site-packages/h5py/__init__.py:36: FutureWarning: Conversion of the second argument of issubdtype from `float` to `np.floating` is deprecated. In future, it will be treated as `np.float64 == np.dtype(float).type`.\n",
      "  from ._conv import register_converters as _register_converters\n"
     ]
    }
   ],
   "source": [
    "import os\n",
    "from Latex.Latex import Latex\n",
    "import numpy as np\n",
    "from os import listdir\n",
    "from skimage import io\n",
    "import matplotlib.pyplot as plt\n",
    "from IPython.display import display, Math\n",
    "import re\n",
    "import json"
   ]
  },
  {
   "cell_type": "code",
   "execution_count": 2,
   "metadata": {},
   "outputs": [],
   "source": [
    "train_images = np.load(\"train_images.npy\")\n",
    "train_labels = np.load(\"train_labels.npy\")"
   ]
  },
  {
   "cell_type": "code",
   "execution_count": 3,
   "metadata": {},
   "outputs": [],
   "source": [
    "mean_train = np.mean(train_images, axis=0)\n",
    "std_train = np.std(train_images, axis=0)"
   ]
  },
  {
   "cell_type": "code",
   "execution_count": 4,
   "metadata": {},
   "outputs": [
    {
     "ename": "ValueError",
     "evalue": "std_train needs to be defined",
     "output_type": "error",
     "traceback": [
      "\u001b[0;31m---------------------------------------------------------------------------\u001b[0m",
      "\u001b[0;31mValueError\u001b[0m                                Traceback (most recent call last)",
      "\u001b[0;32m<ipython-input-4-c689fdba0b21>\u001b[0m in \u001b[0;36m<module>\u001b[0;34m()\u001b[0m\n\u001b[0;32m----> 1\u001b[0;31m \u001b[0mmodel\u001b[0m \u001b[0;34m=\u001b[0m \u001b[0mLatex\u001b[0m\u001b[0;34m(\u001b[0m\u001b[0;34m\"model\"\u001b[0m\u001b[0;34m,\u001b[0m \u001b[0mmean_train\u001b[0m\u001b[0;34m,\u001b[0m \u001b[0mstd_train\u001b[0m\u001b[0;34m,\u001b[0m \u001b[0mplotting\u001b[0m\u001b[0;34m=\u001b[0m\u001b[0;32mFalse\u001b[0m\u001b[0;34m)\u001b[0m\u001b[0;34m\u001b[0m\u001b[0m\n\u001b[0m",
      "\u001b[0;32m~/Documents/Heidelberg/OR/project/Latex/Latex.py\u001b[0m in \u001b[0;36m__init__\u001b[0;34m(self, model_dir, seq_dir, mean_train, std_train, plotting, verbose)\u001b[0m\n\u001b[1;32m     23\u001b[0m             \u001b[0;32mraise\u001b[0m \u001b[0mValueError\u001b[0m\u001b[0;34m(\u001b[0m\u001b[0;34m\"mean_train needs to be defined\"\u001b[0m\u001b[0;34m)\u001b[0m\u001b[0;34m\u001b[0m\u001b[0m\n\u001b[1;32m     24\u001b[0m         \u001b[0;32mif\u001b[0m \u001b[0mstd_train\u001b[0m \u001b[0;32mis\u001b[0m \u001b[0;32mNone\u001b[0m\u001b[0;34m:\u001b[0m\u001b[0;34m\u001b[0m\u001b[0m\n\u001b[0;32m---> 25\u001b[0;31m             \u001b[0;32mraise\u001b[0m \u001b[0mValueError\u001b[0m\u001b[0;34m(\u001b[0m\u001b[0;34m\"std_train needs to be defined\"\u001b[0m\u001b[0;34m)\u001b[0m\u001b[0;34m\u001b[0m\u001b[0m\n\u001b[0m\u001b[1;32m     26\u001b[0m \u001b[0;34m\u001b[0m\u001b[0m\n\u001b[1;32m     27\u001b[0m         \u001b[0mself\u001b[0m\u001b[0;34m.\u001b[0m\u001b[0mmodel_dir\u001b[0m \u001b[0;34m=\u001b[0m \u001b[0mmodel_dir\u001b[0m\u001b[0;34m\u001b[0m\u001b[0m\n",
      "\u001b[0;31mValueError\u001b[0m: std_train needs to be defined"
     ]
    }
   ],
   "source": [
    "model = Latex(\"model\", mean_train, std_train, plotting=False)"
   ]
  },
  {
   "cell_type": "code",
   "execution_count": null,
   "metadata": {},
   "outputs": [],
   "source": [
    "ltokens = ['0', '1', '2', '3', '4', '5', '6', '7', '8', '9', '-', '+', '=', '#leq', '#neq', '#geq', '#alpha',\n",
    "                            '#beta', '#lambda', '#lt', '#gt', 'x', 'y', '^', '#frac', '{', '}' ,' ']"
   ]
  },
  {
   "cell_type": "code",
   "execution_count": null,
   "metadata": {},
   "outputs": [],
   "source": [
    "files = [os.path.join(dp, f) for dp, dn, fn in os.walk(os.path.expanduser(\"formulas/train\")) for f in fn]\n",
    "nlabels = 23\n",
    "nof_sequences = len(files)\n",
    "nclasses = nlabels+4+2+1 # 1 for pad and 4 for relative pos, 2 for abs pos and shift from last and width\n",
    "noclasses = len(ltokens)\n",
    "isequence = np.zeros((nof_sequences,30,nclasses))\n",
    "isequence[:,:,-1] = 1 # default all pad\n",
    "osequence = (noclasses-1)*np.ones((nof_sequences,30), dtype=int)\n",
    "osequence[:,0] = noclasses # all <GO> in beginning\n",
    "for i in range(nof_sequences):\n",
    "    if i % 10 == 0:\n",
    "        print(\"Start i: %d\" % i)\n",
    "    formula = io.imread(files[i])\n",
    "    pos = files[i].rfind(\"/\")\n",
    "    filename = files[i][pos+1:]\n",
    "    height, width = formula.shape\n",
    "    correct = model.filename2formula(filename)\n",
    "    oseq = model.filename2seq(filename)\n",
    "    osequence[i,1:len(oseq)+1] = oseq\n",
    "    latex = model.predict(formula)\n",
    "    \n",
    "    last_xmax = 0\n",
    "    last_ymin = latex['data'][0]['ymin']\n",
    "    step_c = -1\n",
    "    for step in latex['data']:\n",
    "        step_c += 1\n",
    "        isequence[i][step_c][:nlabels] = step['probs']\n",
    "        isequence[i][step_c][-1] = 0 # remove pad\n",
    "        isequence[i][step_c][-7] = step['xmin']/width\n",
    "        isequence[i][step_c][-6] = step['ymin']/height\n",
    "        isequence[i][step_c][-5] = (step['xmin']-last_xmax)/10\n",
    "        last_xmax = step['xmax']\n",
    "        isequence[i][step_c][-4] = (step['xmax']-step['xmin'])/48\n",
    "        isequence[i][step_c][-3] = (step['ymin']-last_ymin)/10\n",
    "        isequence[i][step_c][-2] = (step['ymax']-step['ymin'])/48\n",
    "        last_ymin = step['ymin']"
   ]
  },
  {
   "cell_type": "code",
   "execution_count": null,
   "metadata": {},
   "outputs": [],
   "source": [
    "np.save(\"iseq_n\", isequence)\n",
    "np.save(\"oseq_n\", osequence)\n",
    "with open('files.json', 'w') as f:\n",
    "    f.write(json.dumps(files[:nof_sequences]))"
   ]
  },
  {
   "cell_type": "code",
   "execution_count": null,
   "metadata": {},
   "outputs": [],
   "source": [
    "iseq = np.zeros((60000,30,nclasses))\n",
    "osequence = (noclasses-1)*np.ones((60000,30), dtype=int)"
   ]
  },
  {
   "cell_type": "code",
   "execution_count": null,
   "metadata": {},
   "outputs": [],
   "source": [
    "iseq1 = np.load(\"iseq_n-0-10000.npy\")\n",
    "iseq2 = np.load(\"iseq_n-10000-20000.npy\")\n",
    "iseq3 = np.load(\"iseq_n-20000-30000.npy\")\n",
    "iseq4 = np.load(\"iseq_n-30000-40000.npy\")\n",
    "iseq5 = np.load(\"iseq_n-40000-50000.npy\")\n",
    "iseq6 = np.load(\"iseq_n-50000-60000.npy\")"
   ]
  },
  {
   "cell_type": "code",
   "execution_count": null,
   "metadata": {},
   "outputs": [],
   "source": [
    "oseq1 = np.load(\"oseq_n-0-10000.npy\")\n",
    "oseq2 = np.load(\"oseq_n-10000-20000.npy\")\n",
    "oseq3 = np.load(\"oseq_n-20000-30000.npy\")\n",
    "oseq4 = np.load(\"oseq_n-30000-40000.npy\")\n",
    "oseq5 = np.load(\"oseq_n-40000-50000.npy\")\n",
    "oseq6 = np.load(\"oseq_n-50000-60000.npy\")"
   ]
  },
  {
   "cell_type": "code",
   "execution_count": null,
   "metadata": {},
   "outputs": [],
   "source": [
    "iseq[:10000] = iseq1\n",
    "iseq[10000:20000] = iseq2\n",
    "iseq[20000:30000] = iseq3\n",
    "iseq[30000:40000] = iseq4\n",
    "iseq[40000:50000] = iseq5\n",
    "iseq[50000:60000] = iseq6\n",
    "\n",
    "oseq[:10000] = oseq1\n",
    "oseq[10000:20000] = oseq2\n",
    "oseq[20000:30000] = oseq3\n",
    "oseq[30000:40000] = oseq4\n",
    "oseq[40000:50000] = oseq5\n",
    "oseq[50000:60000] = oseq6\n",
    "\n",
    "np.save(\"iseq_n\", iseq)\n",
    "np.save(\"oseq_n\", oseq)"
   ]
  }
 ],
 "metadata": {
  "kernelspec": {
   "display_name": "Python 3",
   "language": "python",
   "name": "python3"
  },
  "language_info": {
   "codemirror_mode": {
    "name": "ipython",
    "version": 3
   },
   "file_extension": ".py",
   "mimetype": "text/x-python",
   "name": "python",
   "nbconvert_exporter": "python",
   "pygments_lexer": "ipython3",
   "version": "3.6.6"
  }
 },
 "nbformat": 4,
 "nbformat_minor": 2
}
